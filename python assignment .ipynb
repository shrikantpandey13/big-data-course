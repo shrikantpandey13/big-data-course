{
 "cells": [
  {
   "cell_type": "markdown",
   "id": "56197613",
   "metadata": {},
   "source": [
    "### Description: Remove SPSS from input_list=['SAS', 'R', 'PYTHON', 'SPSS'] and add 'SPARK' in its place.\n"
   ]
  },
  {
   "cell_type": "code",
   "execution_count": 3,
   "id": "fe6e646c",
   "metadata": {},
   "outputs": [
    {
     "name": "stdout",
     "output_type": "stream",
     "text": [
      "['SAS', 'R', 'PYTHON', 'SPARK']\n"
     ]
    }
   ],
   "source": [
    "input_list=['SAS', 'R', 'PYTHON', 'SPSS']\n",
    "input_list[3] =\"SPARK\"\n",
    "print(input_list)"
   ]
  },
  {
   "cell_type": "markdown",
   "id": "ad8b772f",
   "metadata": {},
   "source": [
    "### Description: Convert a string input_str = 'I love Data Science & Python' to a list by splitting it on ‘&’. The sample output for this string will be:"
   ]
  },
  {
   "cell_type": "code",
   "execution_count": 6,
   "id": "ea81041d",
   "metadata": {},
   "outputs": [
    {
     "name": "stdout",
     "output_type": "stream",
     "text": [
      "['I love Data Science ', ' Python']\n"
     ]
    }
   ],
   "source": [
    "input_str = 'I love Data Science & Python'\n",
    "\n",
    "result = input_str.split(\"&\")\n",
    "print(result)"
   ]
  },
  {
   "cell_type": "markdown",
   "id": "fac1805b",
   "metadata": {},
   "source": [
    "### Convert a list ['Pythons syntax is easy to learn', 'Pythons syntax is very clear'] to a string using ‘&’. The sample output of this string will be:"
   ]
  },
  {
   "cell_type": "code",
   "execution_count": 13,
   "id": "17aa2537",
   "metadata": {},
   "outputs": [
    {
     "name": "stdout",
     "output_type": "stream",
     "text": [
      "['Pythons syntax is easy to learn', 'Pythons syntax is very clear']\n"
     ]
    }
   ],
   "source": [
    "input_str = ['Pythons syntax is easy to learn', 'Pythons syntax is very clear']\n",
    "\n",
    "result = str(input_str)\n",
    "\n",
    "\n",
    "print(result)\n",
    "\n"
   ]
  },
  {
   "cell_type": "markdown",
   "id": "206acf8c",
   "metadata": {},
   "source": [
    "### Extract Python from a nested list"
   ]
  },
  {
   "cell_type": "code",
   "execution_count": 18,
   "id": "c3a8b905",
   "metadata": {},
   "outputs": [
    {
     "name": "stdout",
     "output_type": "stream",
     "text": [
      "['Python']\n"
     ]
    }
   ],
   "source": [
    "data = [['SAS','R'],['Tableau','SQL'],['Python','Java']]\n",
    "res = []\n",
    "\n",
    "for lst in data:\n",
    "    if 'Python' in lst:\n",
    "        val = lst\n",
    "        for i in val:\n",
    "            if i == 'Python':\n",
    "                res.append(i)\n",
    "\n",
    "                \n",
    "print(res)\n",
    "                "
   ]
  },
  {
   "cell_type": "markdown",
   "id": "c2369d97",
   "metadata": {},
   "source": [
    "### t = (\"disco\", 12, 4.5)"
   ]
  },
  {
   "cell_type": "code",
   "execution_count": 19,
   "id": "a06f3edc",
   "metadata": {},
   "outputs": [
    {
     "name": "stdout",
     "output_type": "stream",
     "text": [
      "s\n"
     ]
    }
   ],
   "source": [
    "t = (\"disco\", 12, 4.5)\n",
    "result = t[0][2]\n",
    "print(result)"
   ]
  },
  {
   "cell_type": "markdown",
   "id": "d3a7d3e2",
   "metadata": {},
   "source": [
    "### Write a program to check whether a string is a palindrome or not. Print 1 if the string is a palindrome and 0 otherwise."
   ]
  },
  {
   "cell_type": "code",
   "execution_count": 36,
   "id": "6f0fbd86",
   "metadata": {},
   "outputs": [
    {
     "data": {
      "text/plain": [
       "1"
      ]
     },
     "execution_count": 36,
     "metadata": {},
     "output_type": "execute_result"
    }
   ],
   "source": [
    "def plaindrome(string):\n",
    "    lst = []\n",
    "    for i in range(len(string)-1,-1,-1):\n",
    "        val = string[i]\n",
    "        lst.append(val)\n",
    "        \n",
    "    k= \"\".join(lst)\n",
    "    \n",
    "    if k == string:\n",
    "        return 1\n",
    "    else:\n",
    "        return 0\n",
    "    \n",
    "\n",
    "string = \"madam\"\n",
    "plaindrome(string)\n",
    "    \n",
    "    "
   ]
  },
  {
   "cell_type": "markdown",
   "id": "9b5c0d0a",
   "metadata": {},
   "source": [
    "### You will be given a sentence in the form of a string. You have to reverse the order of the words in the sentence. Remember not to reverse the individual words, but the order of words. Check the sample input-output for further clarification."
   ]
  },
  {
   "cell_type": "code",
   "execution_count": 5,
   "id": "b024e7fa",
   "metadata": {},
   "outputs": [
    {
     "name": "stdout",
     "output_type": "stream",
     "text": [
      "engineer data am I\n"
     ]
    }
   ],
   "source": [
    "input_str = \"I am data engineer\"\n",
    "input_str = input_str.split()\n",
    "rev_str = input_str[::-1]\n",
    "final_str = \" \".join(rev_str)\n",
    "print(final_str)"
   ]
  },
  {
   "cell_type": "markdown",
   "id": "b5a0686c",
   "metadata": {},
   "source": [
    "### Description: Write a program that satisfies below examples\n",
    "\n",
    "Input 1: caloRie ConsuMed\n",
    "\n",
    "Output 1: calorie_consumed"
   ]
  },
  {
   "cell_type": "code",
   "execution_count": 8,
   "id": "ec71bcb3",
   "metadata": {},
   "outputs": [
    {
     "name": "stdout",
     "output_type": "stream",
     "text": [
      "data_science\n"
     ]
    }
   ],
   "source": [
    "input_str = \"data science\"\n",
    "\n",
    "input_str = input_str.lower().split()\n",
    "\n",
    "res = [word for word in input_str]\n",
    "final = \"_\".join(res)\n",
    "print(final)"
   ]
  },
  {
   "cell_type": "markdown",
   "id": "58623ef9",
   "metadata": {},
   "source": [
    "## MCQ"
   ]
  },
  {
   "cell_type": "markdown",
   "id": "97fd5e06",
   "metadata": {},
   "source": [
    "### 1. How will you extract ‘love’ from the string S = “I love Python”? (More than one option may be correct.)."
   ]
  },
  {
   "cell_type": "code",
   "execution_count": 9,
   "id": "f3ef77ef",
   "metadata": {},
   "outputs": [
    {
     "name": "stdout",
     "output_type": "stream",
     "text": [
      "love\n"
     ]
    }
   ],
   "source": [
    "S = \"I love Python\"\n",
    "res = S[2:6]\n",
    "print(res)"
   ]
  },
  {
   "cell_type": "markdown",
   "id": "ccbc3c54",
   "metadata": {},
   "source": [
    "### 2. What will the output of 3 * 3 ** 3 be?"
   ]
  },
  {
   "cell_type": "code",
   "execution_count": 10,
   "id": "a3f2d123",
   "metadata": {},
   "outputs": [
    {
     "name": "stdout",
     "output_type": "stream",
     "text": [
      "81\n"
     ]
    }
   ],
   "source": [
    "res = 3*3**3\n",
    "print(res)"
   ]
  },
  {
   "cell_type": "markdown",
   "id": "b3f0a1f2",
   "metadata": {},
   "source": [
    "### 3. What will the output be of ((500//7) % 5) ** 3?"
   ]
  },
  {
   "cell_type": "code",
   "execution_count": 11,
   "id": "f3e754cb",
   "metadata": {},
   "outputs": [
    {
     "name": "stdout",
     "output_type": "stream",
     "text": [
      "1\n"
     ]
    }
   ],
   "source": [
    "res = ((500//7) % 5) ** 3\n",
    "print(res)"
   ]
  },
  {
   "cell_type": "markdown",
   "id": "73a6ebaa",
   "metadata": {},
   "source": [
    "### 4. If you have a tuple T = (3, 5, 7, 11), what will the output of T.append(9) be?\n",
    "\n",
    "Option: d"
   ]
  },
  {
   "cell_type": "markdown",
   "id": "036fc7ec",
   "metadata": {},
   "source": [
    "### 6. What will the output of the following code be?\n",
    "\n",
    "option: c\n"
   ]
  },
  {
   "cell_type": "markdown",
   "id": "650f5174",
   "metadata": {},
   "source": [
    "### 7. Which of the following statements is incorrect regarding sets in Python?\n",
    "\n",
    "Option: c"
   ]
  },
  {
   "cell_type": "markdown",
   "id": "83d2cb4b",
   "metadata": {},
   "source": [
    "### 8. What will the output be of the following code?\n",
    "option: a"
   ]
  },
  {
   "cell_type": "markdown",
   "id": "84d969af",
   "metadata": {},
   "source": [
    "### 9. What will the ‘comprehension equivalent’ be for the following snippet of code?\n",
    "option: d"
   ]
  },
  {
   "cell_type": "markdown",
   "id": "a97a2172",
   "metadata": {},
   "source": [
    "### 10.What will be the output of this code?\n",
    "option: d"
   ]
  },
  {
   "cell_type": "code",
   "execution_count": null,
   "id": "1ef63718",
   "metadata": {},
   "outputs": [],
   "source": []
  }
 ],
 "metadata": {
  "kernelspec": {
   "display_name": "Python 3",
   "language": "python",
   "name": "python3"
  },
  "language_info": {
   "codemirror_mode": {
    "name": "ipython",
    "version": 3
   },
   "file_extension": ".py",
   "mimetype": "text/x-python",
   "name": "python",
   "nbconvert_exporter": "python",
   "pygments_lexer": "ipython3",
   "version": "3.8.8"
  }
 },
 "nbformat": 4,
 "nbformat_minor": 5
}
